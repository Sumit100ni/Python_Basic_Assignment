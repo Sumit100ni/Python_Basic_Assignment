{
 "cells": [
  {
   "cell_type": "markdown",
   "id": "3b4265d7",
   "metadata": {},
   "source": [
    "# 1. What does an empty dictionary's code look like?"
   ]
  },
  {
   "cell_type": "markdown",
   "id": "9c80bd93",
   "metadata": {},
   "source": [
    "an empty dictionery would be like {}"
   ]
  },
  {
   "cell_type": "markdown",
   "id": "e8e962bf",
   "metadata": {},
   "source": [
    "# 2. What is the value of a dictionary value with the key 'foo' and the value 42?"
   ]
  },
  {
   "cell_type": "markdown",
   "id": "b56d8085",
   "metadata": {},
   "source": [
    "{'foo':42}"
   ]
  },
  {
   "cell_type": "markdown",
   "id": "b26ed91c",
   "metadata": {},
   "source": [
    "# 3. What is the most significant distinction between a dictionary and a list?"
   ]
  },
  {
   "cell_type": "markdown",
   "id": "858f4452",
   "metadata": {},
   "source": [
    "the dictionary is having values as in Key value pair and key should be unique while list is having heterogenous kinds of elements in it "
   ]
  },
  {
   "cell_type": "markdown",
   "id": "04a8d74d",
   "metadata": {},
   "source": [
    "# 4. What happens if you try to access spam['foo'] if spam is {'bar': 100}?"
   ]
  },
  {
   "cell_type": "markdown",
   "id": "14c17777",
   "metadata": {},
   "source": [
    "You will get a key error "
   ]
  },
  {
   "cell_type": "markdown",
   "id": "e15e1d88",
   "metadata": {},
   "source": [
    "# 5. If a dictionary is stored in spam, what is the difference between the expressions 'cat' in spam and 'cat' in spam.keys()?"
   ]
  },
  {
   "cell_type": "markdown",
   "id": "9d220336",
   "metadata": {},
   "source": [
    "There is no difference between them as it checks only the keys over there so both works same "
   ]
  },
  {
   "cell_type": "markdown",
   "id": "81ad1d09",
   "metadata": {},
   "source": [
    "# 6. If a dictionary is stored in spam, what is the difference between the expressions 'cat' in spam and 'cat' in spam.values()?"
   ]
  },
  {
   "cell_type": "markdown",
   "id": "bcb79ea3",
   "metadata": {},
   "source": [
    "so in 'cat' in spam it will check within keys while spam.values() it will check whether cat is there in the values or not for one of the keys"
   ]
  },
  {
   "cell_type": "markdown",
   "id": "4f0eef34",
   "metadata": {},
   "source": [
    "# 7. What is a shortcut for the following code?\n",
    "# if 'color' not in spam:\n",
    "# spam['color'] = 'black'\n"
   ]
  },
  {
   "cell_type": "markdown",
   "id": "643a4706",
   "metadata": {},
   "source": [
    "spam.setdefault('color', 'black')"
   ]
  },
  {
   "cell_type": "markdown",
   "id": "466a9757",
   "metadata": {},
   "source": [
    "# 8. How do you \"pretty print\" dictionary values using which module and function?"
   ]
  },
  {
   "cell_type": "markdown",
   "id": "4b2c0521",
   "metadata": {},
   "source": [
    "pprint.pprint()"
   ]
  }
 ],
 "metadata": {
  "kernelspec": {
   "display_name": "Python 3 (ipykernel)",
   "language": "python",
   "name": "python3"
  },
  "language_info": {
   "codemirror_mode": {
    "name": "ipython",
    "version": 3
   },
   "file_extension": ".py",
   "mimetype": "text/x-python",
   "name": "python",
   "nbconvert_exporter": "python",
   "pygments_lexer": "ipython3",
   "version": "3.9.12"
  }
 },
 "nbformat": 4,
 "nbformat_minor": 5
}
