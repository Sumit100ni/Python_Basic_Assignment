{
 "cells": [
  {
   "cell_type": "markdown",
   "id": "2125f6fd",
   "metadata": {},
   "source": [
    "# 1. What are escape characters, and how do you use them?"
   ]
  },
  {
   "cell_type": "markdown",
   "id": "ed98c6ec",
   "metadata": {},
   "source": [
    "An escape character is a backslash \\ followed by the character you want to insert"
   ]
  },
  {
   "cell_type": "markdown",
   "id": "2a12217a",
   "metadata": {},
   "source": [
    "eg:"
   ]
  },
  {
   "cell_type": "code",
   "execution_count": 1,
   "id": "b61052ce",
   "metadata": {},
   "outputs": [
    {
     "name": "stdout",
     "output_type": "stream",
     "text": [
      "My name is\t Darpan\n"
     ]
    }
   ],
   "source": [
    "print('My name is\\t Darpan')"
   ]
  },
  {
   "cell_type": "markdown",
   "id": "361a376d",
   "metadata": {},
   "source": [
    "Here what \\t refers as a tab"
   ]
  },
  {
   "cell_type": "markdown",
   "id": "50c106d2",
   "metadata": {},
   "source": [
    "# 2. What do the escape characters n and t stand for?"
   ]
  },
  {
   "cell_type": "raw",
   "id": "fe15a4cf",
   "metadata": {},
   "source": [
    "n refers to a new line\n",
    "t refers to tab or whitespace"
   ]
  },
  {
   "cell_type": "markdown",
   "id": "c169d849",
   "metadata": {},
   "source": [
    "# 3. What is the way to include backslash characters in a string?"
   ]
  },
  {
   "cell_type": "markdown",
   "id": "55917c45",
   "metadata": {},
   "source": [
    "The way to include backslash is by giving two backslash eg:"
   ]
  },
  {
   "cell_type": "code",
   "execution_count": 4,
   "id": "42b4f192",
   "metadata": {},
   "outputs": [
    {
     "name": "stdout",
     "output_type": "stream",
     "text": [
      "this is backslash \\\n"
     ]
    }
   ],
   "source": [
    "print('this is backslash \\\\')"
   ]
  },
  {
   "cell_type": "markdown",
   "id": "8ae7f023",
   "metadata": {},
   "source": [
    "# 4. The string \"Howl's Moving Castle\" is a correct value. Why isn't the single quote character in the word Howl's not escaped a problem?"
   ]
  },
  {
   "cell_type": "markdown",
   "id": "c5a4689b",
   "metadata": {},
   "source": [
    "because the string there is already inside double quotes that is why it didn't gave any error"
   ]
  },
  {
   "cell_type": "markdown",
   "id": "3410c6f5",
   "metadata": {},
   "source": [
    "# 5. How do you write a string of newlines if you don't want to use the n character?"
   ]
  },
  {
   "cell_type": "markdown",
   "id": "0b4f93e4",
   "metadata": {},
   "source": [
    "Multiline strings allow you to use newlines in strings without the \\n escape character this is way to do so "
   ]
  },
  {
   "cell_type": "code",
   "execution_count": 15,
   "id": "1f24aeb4",
   "metadata": {},
   "outputs": [
    {
     "name": "stdout",
     "output_type": "stream",
     "text": [
      "\n",
      "My Name is Darpan\n",
      "I am a Nice Guy\n",
      "I works in an IT Firm\n"
     ]
    }
   ],
   "source": [
    "print('''\n",
    "My Name is Darpan\n",
    "I am a Nice Guy\n",
    "I works in an IT Firm''')"
   ]
  },
  {
   "cell_type": "markdown",
   "id": "5bfee060",
   "metadata": {},
   "source": [
    "# 6. What are the values of the given expressions?\n",
    "# 'Hello, world!'[1]\n",
    "# 'Hello, world!'[0:5]\n",
    "# 'Hello, world!'[:5]\n",
    "# 'Hello, world!'[3:]\n"
   ]
  },
  {
   "cell_type": "markdown",
   "id": "7f356be6",
   "metadata": {},
   "source": [
    "'Hello, world!'[1] --> e"
   ]
  },
  {
   "cell_type": "markdown",
   "id": "33d396fc",
   "metadata": {},
   "source": [
    "'Hello, world!'[0:5] --> Hello"
   ]
  },
  {
   "cell_type": "markdown",
   "id": "91e6855f",
   "metadata": {},
   "source": [
    "'Hello, world!'[:5] --> Hello"
   ]
  },
  {
   "cell_type": "markdown",
   "id": "b99ec548",
   "metadata": {},
   "source": [
    "'Hello, world!'[3:] --> lo, world!"
   ]
  },
  {
   "cell_type": "markdown",
   "id": "7c8eb091",
   "metadata": {},
   "source": [
    "# 7. What are the values of the following expressions?\n",
    "# 'Hello'.upper()\n",
    "# 'Hello'.upper().isupper()\n",
    "# 'Hello'.upper().lower()\n"
   ]
  },
  {
   "cell_type": "markdown",
   "id": "fd001ca2",
   "metadata": {},
   "source": [
    "'Hello'.upper() this will give 'HELLO'"
   ]
  },
  {
   "cell_type": "markdown",
   "id": "2aa91045",
   "metadata": {},
   "source": [
    "'Hello'.upper().isupper() this Will return a boolean expression True"
   ]
  },
  {
   "cell_type": "markdown",
   "id": "2a3dd6f5",
   "metadata": {},
   "source": [
    "'Hello'.upper().lower() this wil give 'hello'"
   ]
  },
  {
   "cell_type": "markdown",
   "id": "db7b3976",
   "metadata": {},
   "source": [
    "# 8. What are the values of the following expressions?\n",
    "# 'Remember, remember, the fifth of July.'.split()\n",
    "# '-'.join('There can only one.'.split())\n"
   ]
  },
  {
   "cell_type": "markdown",
   "id": "cfbf77a6",
   "metadata": {},
   "source": [
    "['Remember,', 'remember,', 'the', 'fifth', 'of', 'November.']\n",
    "\n",
    "'There-can-be-only-one."
   ]
  },
  {
   "cell_type": "markdown",
   "id": "0cfbb1bd",
   "metadata": {},
   "source": [
    "# 9. What are the methods for right-justifying, left-justifying, and centering a string?"
   ]
  },
  {
   "cell_type": "markdown",
   "id": "1d2bd8b9",
   "metadata": {},
   "source": [
    "rjust(),ljust(),center() These are the methods we use"
   ]
  },
  {
   "cell_type": "markdown",
   "id": "ecde0d86",
   "metadata": {},
   "source": [
    "# 10. What is the best way to remove whitespace characters from the start or end?"
   ]
  },
  {
   "cell_type": "markdown",
   "id": "dde570ef",
   "metadata": {},
   "source": [
    "rstrip(),lstrip() to remove the whitespaces"
   ]
  }
 ],
 "metadata": {
  "kernelspec": {
   "display_name": "Python 3 (ipykernel)",
   "language": "python",
   "name": "python3"
  },
  "language_info": {
   "codemirror_mode": {
    "name": "ipython",
    "version": 3
   },
   "file_extension": ".py",
   "mimetype": "text/x-python",
   "name": "python",
   "nbconvert_exporter": "python",
   "pygments_lexer": "ipython3",
   "version": "3.9.12"
  }
 },
 "nbformat": 4,
 "nbformat_minor": 5
}
