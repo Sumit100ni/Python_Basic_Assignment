{
 "cells": [
  {
   "cell_type": "markdown",
   "id": "b320d584",
   "metadata": {},
   "source": [
    "# 1. What exactly is []?"
   ]
  },
  {
   "cell_type": "markdown",
   "id": "faa38ba7",
   "metadata": {},
   "source": [
    "it refers to an empty list"
   ]
  },
  {
   "cell_type": "markdown",
   "id": "64f695c4",
   "metadata": {},
   "source": [
    "# 2. In a list of values stored in a variable called spam, how would you assign the value 'hello' as the third value? (Assume [2, 4, 6, 8, 10] are in spam.)"
   ]
  },
  {
   "cell_type": "code",
   "execution_count": 1,
   "id": "5837ba81",
   "metadata": {},
   "outputs": [
    {
     "data": {
      "text/plain": [
       "[2, 4, 'hello', 8, 10]"
      ]
     },
     "execution_count": 1,
     "metadata": {},
     "output_type": "execute_result"
    }
   ],
   "source": [
    "spam=[2,4,6,8,10]\n",
    "spam[2]='hello'\n",
    "spam"
   ]
  },
  {
   "cell_type": "markdown",
   "id": "ab264dfc",
   "metadata": {},
   "source": [
    "# Let's pretend the spam includes the list ['a', 'b', 'c', 'd'] for the next three queries."
   ]
  },
  {
   "cell_type": "markdown",
   "id": "7954ddff",
   "metadata": {},
   "source": [
    "# 3. What is the value of spam[int(int('3' * 2) / 11)]?"
   ]
  },
  {
   "cell_type": "markdown",
   "id": "d554727d",
   "metadata": {},
   "source": [
    "('3' * 2) / 11) it will give d as int('33')/11 then int as 3 and the 4th element it will give that is d"
   ]
  },
  {
   "cell_type": "markdown",
   "id": "509eb370",
   "metadata": {},
   "source": [
    "# 4. What is the value of spam[-1]?"
   ]
  },
  {
   "cell_type": "markdown",
   "id": "9a0ce488",
   "metadata": {},
   "source": [
    "the answer is d"
   ]
  },
  {
   "cell_type": "markdown",
   "id": "08c93e60",
   "metadata": {},
   "source": [
    "# 5. What is the value of spam[:2]?"
   ]
  },
  {
   "cell_type": "markdown",
   "id": "bdd3e9cf",
   "metadata": {},
   "source": [
    "the answer is it will give ['a','b']"
   ]
  },
  {
   "cell_type": "markdown",
   "id": "66907e5f",
   "metadata": {},
   "source": [
    "# Let's pretend bacon has the list [3.14, 'cat,' 11, 'cat,' True] for the next three questions."
   ]
  },
  {
   "cell_type": "markdown",
   "id": "56e003f4",
   "metadata": {},
   "source": [
    "# 6. What is the value of bacon.index('cat')?"
   ]
  },
  {
   "cell_type": "markdown",
   "id": "052c1caf",
   "metadata": {},
   "source": [
    "first of all the list is not valid because it will through an error as , is in inside the cat character that will work fine but , is missing after the character cat that may be cause of human error I can understand and the answer after correcting the list is 1"
   ]
  },
  {
   "cell_type": "markdown",
   "id": "6dcbfb51",
   "metadata": {},
   "source": [
    "# 7. How does bacon.append(99) change the look of the list value in bacon?"
   ]
  },
  {
   "cell_type": "markdown",
   "id": "43282ca5",
   "metadata": {},
   "source": [
    "the new list will be look like [3.14,'cat',11,'cat',True,99]"
   ]
  },
  {
   "cell_type": "markdown",
   "id": "612b502d",
   "metadata": {},
   "source": [
    "# 8. How does bacon.remove('cat') change the look of the list in bacon?"
   ]
  },
  {
   "cell_type": "markdown",
   "id": "37f16820",
   "metadata": {},
   "source": [
    "the look of bacon would be like [3.14, 11, 'cat', True, 99] it will remove the first occurance of cat in this "
   ]
  },
  {
   "cell_type": "markdown",
   "id": "8e141d04",
   "metadata": {},
   "source": [
    "# 9. What are the list concatenation and list replication operators?"
   ]
  },
  {
   "cell_type": "markdown",
   "id": "4c68fee2",
   "metadata": {},
   "source": [
    "The operator for list concatenation is +, while the operator for replication is *"
   ]
  },
  {
   "cell_type": "markdown",
   "id": "df8176c7",
   "metadata": {},
   "source": [
    "# 10. What is difference between the list methods append() and insert()?"
   ]
  },
  {
   "cell_type": "markdown",
   "id": "620cbd95",
   "metadata": {},
   "source": [
    "append will append the element at the end of the list and while insert will insert the element before the index given "
   ]
  },
  {
   "cell_type": "markdown",
   "id": "94108d16",
   "metadata": {},
   "source": [
    "# 11. What are the two methods for removing items from a list?"
   ]
  },
  {
   "cell_type": "markdown",
   "id": "7d04a464",
   "metadata": {},
   "source": [
    "pop() will remove the element at given index and return the item and remove() will remove the first occurance of the element"
   ]
  },
  {
   "cell_type": "markdown",
   "id": "5838cad4",
   "metadata": {},
   "source": [
    "# 12. Describe how list values and string values are identical."
   ]
  },
  {
   "cell_type": "markdown",
   "id": "360b3b75",
   "metadata": {},
   "source": [
    "The similarity between Lists and Strings in Python is that both are sequences. The differences between them are that firstly, Lists are mutable but Strings are immutable. Secondly, elements of a list can be of different types whereas a String only contains characters that are all of String type"
   ]
  },
  {
   "cell_type": "markdown",
   "id": "9bc93e24",
   "metadata": {},
   "source": [
    "# 13. What's the difference between tuples and lists?"
   ]
  },
  {
   "cell_type": "markdown",
   "id": "72b03a51",
   "metadata": {},
   "source": [
    "The main difference between list an tuple are that list are mutuable and tuple are immutable which means that the list can be modified after assigned while tuples are not modified after assignment "
   ]
  },
  {
   "cell_type": "markdown",
   "id": "b2bc0d2c",
   "metadata": {},
   "source": [
    "# 14. How do you type a tuple value that only contains the integer 42?"
   ]
  },
  {
   "cell_type": "markdown",
   "id": "64fb6bb6",
   "metadata": {},
   "source": [
    "(42,) (The trailing comma is mandatory.)"
   ]
  },
  {
   "cell_type": "markdown",
   "id": "e4f90455",
   "metadata": {},
   "source": [
    "# 15. How do you get a list value's tuple form? How do you get a tuple value's list form?"
   ]
  },
  {
   "cell_type": "markdown",
   "id": "dc1d7067",
   "metadata": {},
   "source": [
    "The tuple() and list() functions, respectively"
   ]
  },
  {
   "cell_type": "markdown",
   "id": "ccd469ed",
   "metadata": {},
   "source": [
    "# 16. Variables that \"contain\" list values are not necessarily lists themselves. Instead, what do they contain?"
   ]
  },
  {
   "cell_type": "markdown",
   "id": "9d4b5855",
   "metadata": {},
   "source": [
    "They contain references to list values."
   ]
  },
  {
   "cell_type": "markdown",
   "id": "84eaac20",
   "metadata": {},
   "source": [
    "# 17. How do you distinguish between copy.copy() and copy.deepcopy()?"
   ]
  },
  {
   "cell_type": "markdown",
   "id": "94431061",
   "metadata": {},
   "source": [
    "The copy.copy() function will do a shallow copy of a list, while the copy.deepcopy() function will do a deep copy of a list. That is, only copy.deepcopy() will duplicate any lists inside the list."
   ]
  }
 ],
 "metadata": {
  "kernelspec": {
   "display_name": "Python 3 (ipykernel)",
   "language": "python",
   "name": "python3"
  },
  "language_info": {
   "codemirror_mode": {
    "name": "ipython",
    "version": 3
   },
   "file_extension": ".py",
   "mimetype": "text/x-python",
   "name": "python",
   "nbconvert_exporter": "python",
   "pygments_lexer": "ipython3",
   "version": "3.9.12"
  }
 },
 "nbformat": 4,
 "nbformat_minor": 5
}
